{
 "cells": [
  {
   "metadata": {
    "ExecuteTime": {
     "end_time": "2024-11-06T00:49:33.231167Z",
     "start_time": "2024-11-06T00:49:33.220309Z"
    }
   },
   "cell_type": "code",
   "source": [
    "# PREGUNTA 1\n",
    "def proportion_of_education():\n",
    " \n",
    "    df = pd.read_csv(\"C:/Users/Usuario/PycharmProjects/Pr-ctica-2---Data-Cleaning-Data-Analisys/data/NISPUF17.csv\")\n",
    "    \n",
    "    education_counts = df['EDUC1'].value_counts(normalize=True)\n",
    "    \n",
    "    proportions = {\n",
    "        \"menor que secundaria\": education_counts.get(1, 0),\n",
    "        \"secundaria\": education_counts.get(2, 0),\n",
    "        \"mayor a secundaria pero no universitaria\": education_counts.get(3, 0),\n",
    "        \"universitaria\": education_counts.get(4, 0)\n",
    "    }\n",
    "    \n",
    "    return proportions\n"
   ],
   "id": "41a03ac0202bb735",
   "outputs": [],
   "execution_count": 20
  },
  {
   "metadata": {
    "ExecuteTime": {
     "end_time": "2024-11-06T00:51:19.967849Z",
     "start_time": "2024-11-06T00:51:19.940866Z"
    }
   },
   "cell_type": "code",
   "source": [
    "{\n",
    "    \"menor que secundaria\": 0.10202002459160373,\n",
    "    \"secundaria\": 0.172352011241876,\n",
    "    \"mayor a secundaria pero no universitaria\": 0.24588090637625154,\n",
    "    \"universitaria\": 0.47974705779026877\n",
    "}"
   ],
   "id": "f71b8ef3acbb359e",
   "outputs": [
    {
     "data": {
      "text/plain": [
       "{'menor que secundaria': 0.10202002459160373,\n",
       " 'secundaria': 0.172352011241876,\n",
       " 'mayor a secundaria pero no universitaria': 0.24588090637625154,\n",
       " 'universitaria': 0.47974705779026877}"
      ]
     },
     "execution_count": 21,
     "metadata": {},
     "output_type": "execute_result"
    }
   ],
   "execution_count": 21
  },
  {
   "metadata": {
    "ExecuteTime": {
     "end_time": "2024-11-06T00:57:40.202537Z",
     "start_time": "2024-11-06T00:57:38.963812Z"
    }
   },
   "cell_type": "code",
   "source": [
    "# PREGUNTA 2\n",
    "def average_influenza_doses(file_path):\n",
    "    df = pd.read_csv(file_path)\n",
    "    \n",
    "    breastfed = df[df['CBF_01'] == 1]['P_NUMFLU']\n",
    "    not_breastfed = df[df['CBF_01'] == 2]['P_NUMFLU']\n",
    "    \n",
    "    avg_breastfed = breastfed.mean()\n",
    "    avg_not_breastfed = not_breastfed.mean()\n",
    "    \n",
    "    return (avg_breastfed, avg_not_breastfed)\n",
    "\n",
    "ifile_path = \"C:/Users/Usuario/PycharmProjects/Pr-ctica-2---Data-Cleaning-Data-Analisys/data/NISPUF17.csv\"\n",
    "\n",
    "average_influenza_doses(ifile_path)\n"
   ],
   "id": "d0ce0ed89ad2a7f9",
   "outputs": [
    {
     "data": {
      "text/plain": [
       "(np.float64(1.8799187420058687), np.float64(1.5963945918878317))"
      ]
     },
     "execution_count": 28,
     "metadata": {},
     "output_type": "execute_result"
    }
   ],
   "execution_count": 28
  },
  {
   "metadata": {
    "ExecuteTime": {
     "end_time": "2024-11-06T01:00:46.662139Z",
     "start_time": "2024-11-06T01:00:45.517417Z"
    }
   },
   "cell_type": "code",
   "source": [
    "# PREGUNTA 2\n",
    "import pandas as pd\n",
    "\n",
    "def chickenpox_by_sex(ifile_path):\n",
    "    df = pd.read_csv(ifile_path)\n",
    "    \n",
    "    vaccinated = df[df['P_NUMVRC'] > 0]\n",
    "    \n",
    "    ratios = {}\n",
    "    for sex in [1, 2]:\n",
    "        sex_data = vaccinated[vaccinated['SEX'] == sex]\n",
    "        had_chickenpox = sex_data[sex_data['HAD_CPOX'] == 1].shape[0]\n",
    "        no_chickenpox = sex_data[sex_data['HAD_CPOX'] == 2].shape[0]\n",
    "        \n",
    "        if no_chickenpox > 0:\n",
    "            ratio = had_chickenpox / no_chickenpox\n",
    "        else:\n",
    "            ratio = float('nan')  \n",
    "        \n",
    "        ratios[\"male\" if sex == 1 else \"female\"] = ratio\n",
    "    \n",
    "    return ratios\n",
    "\n",
    "ifile_path = \"C:/Users/Usuario/PycharmProjects/Pr-ctica-2---Data-Cleaning-Data-Analisys/data/NISPUF17.csv\"\n",
    "\n",
    "chickenpox_by_sex(ifile_path)\n",
    "\n"
   ],
   "id": "fa1e4dfe250b2d35",
   "outputs": [
    {
     "data": {
      "text/plain": [
       "{'male': 0.009675583380762664, 'female': 0.0077918259335489565}"
      ]
     },
     "execution_count": 30,
     "metadata": {},
     "output_type": "execute_result"
    }
   ],
   "execution_count": 30
  },
  {
   "metadata": {},
   "cell_type": "markdown",
   "source": "",
   "id": "de9ff1e0b24e8ae5"
  }
 ],
 "metadata": {
  "kernelspec": {
   "display_name": "Python 3",
   "language": "python",
   "name": "python3"
  },
  "language_info": {
   "codemirror_mode": {
    "name": "ipython",
    "version": 2
   },
   "file_extension": ".py",
   "mimetype": "text/x-python",
   "name": "python",
   "nbconvert_exporter": "python",
   "pygments_lexer": "ipython2",
   "version": "2.7.6"
  }
 },
 "nbformat": 4,
 "nbformat_minor": 5
}
